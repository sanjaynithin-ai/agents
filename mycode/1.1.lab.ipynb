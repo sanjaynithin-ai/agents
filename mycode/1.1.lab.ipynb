{
 "cells": [
  {
   "cell_type": "code",
   "execution_count": 1,
   "metadata": {},
   "outputs": [
    {
     "data": {
      "text/plain": [
       "True"
      ]
     },
     "execution_count": 1,
     "metadata": {},
     "output_type": "execute_result"
    }
   ],
   "source": [
    "from dotenv import load_dotenv\n",
    "load_dotenv(override=True)"
   ]
  },
  {
   "cell_type": "code",
   "execution_count": 5,
   "metadata": {},
   "outputs": [],
   "source": [
    "model = \"llama3.2\"\n",
    "api_key=\"ollama\""
   ]
  },
  {
   "cell_type": "code",
   "execution_count": 6,
   "metadata": {},
   "outputs": [],
   "source": [
    "from openai import OpenAI\n",
    "openai = OpenAI(base_url=\"http://localhost:11434/v1\", api_key=api_key)"
   ]
  },
  {
   "cell_type": "code",
   "execution_count": 7,
   "metadata": {},
   "outputs": [],
   "source": [
    "messages = [{\"role\": \"user\", \"content\": \"what is 2+2?\"}]"
   ]
  },
  {
   "cell_type": "code",
   "execution_count": 8,
   "metadata": {},
   "outputs": [],
   "source": [
    "response = openai.chat.completions.create(model=model, messages=messages)"
   ]
  },
  {
   "cell_type": "code",
   "execution_count": 9,
   "metadata": {},
   "outputs": [
    {
     "name": "stdout",
     "output_type": "stream",
     "text": [
      "2 + 2 = 4\n"
     ]
    }
   ],
   "source": [
    "print(response.choices[0].message.content)"
   ]
  },
  {
   "cell_type": "code",
   "execution_count": 10,
   "metadata": {},
   "outputs": [],
   "source": [
    "question = \"Please propose a hard, challenging question to assess someone's IQ. Respond only with the question.\"\n",
    "messages = [{\"role\": \"user\", \"content\": question}]"
   ]
  },
  {
   "cell_type": "code",
   "execution_count": 11,
   "metadata": {},
   "outputs": [],
   "source": [
    "response = openai.chat.completions.create(model=model, messages=messages)"
   ]
  },
  {
   "cell_type": "code",
   "execution_count": 12,
   "metadata": {},
   "outputs": [
    {
     "name": "stdout",
     "output_type": "stream",
     "text": [
      "What is the minimum number of moves required to convert the Hilbert function into a non-decreasing sequence of integers modulo m=10 on the natural numbers?\n"
     ]
    }
   ],
   "source": [
    "question = response.choices[0].message.content\n",
    "print(question)"
   ]
  },
  {
   "cell_type": "code",
   "execution_count": 13,
   "metadata": {},
   "outputs": [],
   "source": [
    "messages = [{\"role\": \"user\", \"content\": question}]\n",
    "response = openai.chat.completions.create(model=model, messages=messages)"
   ]
  },
  {
   "cell_type": "code",
   "execution_count": 14,
   "metadata": {},
   "outputs": [
    {
     "name": "stdout",
     "output_type": "stream",
     "text": [
      "The Hilbert function is defined as:\n",
      "\n",
      "H(n) = (n^2 - n)/4 % 1\n",
      "\n",
      "To convert this function into a non-decreasing sequence of integers modulo m=10, you can try different sequences of substitutions.\n",
      "\n",
      "One possible way to do it would be:\n",
      "\n",
      "H'(n) = H((n-1)^2)\n",
      "\n",
      "This function takes the square of an odd number minus one and applies the Hilbert function to it. By starting with n=0, we get:\n",
      "\n",
      "H'(0) = H(3) = 4\n",
      "H'(1) = H(4) = -1 % 10 = 9\n",
      "H'(2) = H(9) = 7 % 10\n"
     ]
    }
   ],
   "source": [
    "answer = response.choices[0].message.content\n",
    "print(answer)"
   ]
  },
  {
   "cell_type": "code",
   "execution_count": 15,
   "metadata": {},
   "outputs": [
    {
     "data": {
      "text/markdown": [
       "The Hilbert function is defined as:\n",
       "\n",
       "H(n) = (n^2 - n)/4 % 1\n",
       "\n",
       "To convert this function into a non-decreasing sequence of integers modulo m=10, you can try different sequences of substitutions.\n",
       "\n",
       "One possible way to do it would be:\n",
       "\n",
       "H'(n) = H((n-1)^2)\n",
       "\n",
       "This function takes the square of an odd number minus one and applies the Hilbert function to it. By starting with n=0, we get:\n",
       "\n",
       "H'(0) = H(3) = 4\n",
       "H'(1) = H(4) = -1 % 10 = 9\n",
       "H'(2) = H(9) = 7 % 10"
      ],
      "text/plain": [
       "<IPython.core.display.Markdown object>"
      ]
     },
     "metadata": {},
     "output_type": "display_data"
    }
   ],
   "source": [
    "from IPython.display import Markdown, display\n",
    "display(Markdown(answer))"
   ]
  },
  {
   "cell_type": "code",
   "execution_count": null,
   "metadata": {},
   "outputs": [],
   "source": []
  }
 ],
 "metadata": {
  "kernelspec": {
   "display_name": ".venv",
   "language": "python",
   "name": "python3"
  },
  "language_info": {
   "codemirror_mode": {
    "name": "ipython",
    "version": 3
   },
   "file_extension": ".py",
   "mimetype": "text/x-python",
   "name": "python",
   "nbconvert_exporter": "python",
   "pygments_lexer": "ipython3",
   "version": "3.12.10"
  }
 },
 "nbformat": 4,
 "nbformat_minor": 2
}
